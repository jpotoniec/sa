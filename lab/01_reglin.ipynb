{
 "cells": [
  {
   "cell_type": "code",
   "execution_count": null,
   "metadata": {
    "collapsed": true
   },
   "outputs": [],
   "source": [
    "%matplotlib inline\n",
    "\n",
    "import matplotlib\n",
    "import numpy as np\n",
    "import matplotlib.pyplot as plt"
   ]
  },
  {
   "cell_type": "markdown",
   "metadata": {},
   "source": [
    "## Błąd średniokwadratowy\n",
    "\n",
    "Uzupełnij kod poniższej funkcji `predict` zgodnie z poniższym opisem:\n",
    "* `X` to wektor cech\n",
    "* `w` to waga cechy\n",
    "* `b` to wartośc wyrazu wolnego\n",
    "\n",
    "Funkcja powinna zwrócić wektor takiego samego rozmiaru jak `X` zawierający przewidywane wartości zgodnie z zasadami regresji liniowej"
   ]
  },
  {
   "cell_type": "code",
   "execution_count": null,
   "metadata": {
    "collapsed": true
   },
   "outputs": [],
   "source": [
    "def predict(X, w, b):\n",
    "    return ..."
   ]
  },
  {
   "cell_type": "markdown",
   "metadata": {},
   "source": [
    "Uzupełnij kod poniższej funkcji `MSE` w taki sposób, aby zwracała ona błąd średniokwadratowy pomiędzy wektorami `y_true` oraz `y_pred`\n",
    "$$ mse = \\frac{1}{n} \\sum_{i=1}^n (y_i - \\hat{y}_i)^2 $$"
   ]
  },
  {
   "cell_type": "code",
   "execution_count": null,
   "metadata": {
    "collapsed": true
   },
   "outputs": [],
   "source": [
    "def mse(y_true, y_pred):    \n",
    "    return ..."
   ]
  },
  {
   "cell_type": "markdown",
   "metadata": {},
   "source": [
    "Użyj poniższego kodu, żeby przetestować zaimplementowane funkcje"
   ]
  },
  {
   "cell_type": "code",
   "execution_count": null,
   "metadata": {
    "collapsed": true
   },
   "outputs": [],
   "source": [
    "def report(y_true, w, b):\n",
    "    y_pred = predict(X, w, b)\n",
    "    y_pred = y_pred.reshape((-1,))\n",
    "    if y_true.shape[0] <= 10:\n",
    "        print(\"Rzeczywiste wartości\", y_true)\n",
    "        print(\"Predykcje\", y_pred)\n",
    "    print(\"MSE\", mse(y_true, y_pred), \"w\", w, \"b\", b)    "
   ]
  },
  {
   "cell_type": "code",
   "execution_count": null,
   "metadata": {
    "collapsed": false
   },
   "outputs": [],
   "source": [
    "X = np.array([4, 7, 9])\n",
    "report(np.array([340, 595, 765]), 85, 0)\n",
    "report(np.array([348.5, 586.5, 765]), 85, 0)\n",
    "report(np.array([390, 645, 815]), 91.85, 0)\n",
    "report(np.array([390, 645, 815]), 85, 50)"
   ]
  },
  {
   "cell_type": "markdown",
   "metadata": {},
   "source": [
    "## Regresja liniowa\n",
    "\n",
    "Uzupełnij kod poniższej funkcji `reglin` w taki sposób, żeby zwracała parę `(w, b)` obliczoną za pomocą algebraicznych wzorów dla regresji liniowej. `X` jest wektorem z wartościami cechy, `y` oczekiwanym wyjściem."
   ]
  },
  {
   "cell_type": "code",
   "execution_count": null,
   "metadata": {
    "collapsed": false
   },
   "outputs": [],
   "source": [
    "def reglin(X, y):\n",
    "    ...\n",
    "    return w, b"
   ]
  },
  {
   "cell_type": "markdown",
   "metadata": {},
   "source": [
    "Przetestuj swój kod"
   ]
  },
  {
   "cell_type": "code",
   "execution_count": null,
   "metadata": {
    "collapsed": false
   },
   "outputs": [],
   "source": [
    "y_true = np.array([390, 645, 815])\n",
    "report(y_true, *reglin(X, y_true))"
   ]
  },
  {
   "cell_type": "markdown",
   "metadata": {},
   "source": [
    "## Generowanie danych\n",
    "\n",
    "Utwórz wektor `X` zawierający losowe liczby z zakresu 0-100. Następnie utwórz wektor `y` przez pomnożenie `X` przez 50 i dodanie 45. Przetestój swój kod wykorzystując te dane."
   ]
  },
  {
   "cell_type": "code",
   "execution_count": null,
   "metadata": {
    "collapsed": false
   },
   "outputs": [],
   "source": [
    "X = ...\n",
    "y = ...\n",
    "report(y, *reglin(X, y))"
   ]
  },
  {
   "cell_type": "markdown",
   "metadata": {},
   "source": [
    "## Generowanie zbioru uczącego i zbioru testowego\n",
    "\n",
    "Teraz utwórz w taki sam sposób wektory `X_train` i `y_train` oraz `X_test` oraz `y_test`. Oblicz wagi za pomocą wektorów `X_train` i `y_train`, a następnie oblicz błąd średniokwadratowy pomiędzy predykcją na wektorze `X_test`, a wektorem `y_test`"
   ]
  },
  {
   "cell_type": "code",
   "execution_count": null,
   "metadata": {
    "collapsed": false
   },
   "outputs": [],
   "source": [
    "X_train = ...\n",
    "y_train = ...\n",
    "\n",
    "X_test = ...\n",
    "y_test = ...\n",
    "\n",
    "y_pred = ...\n",
    "mse(y_test, y_pred)"
   ]
  },
  {
   "cell_type": "markdown",
   "metadata": {},
   "source": [
    "## Generowanie zaszumionych danych\n",
    "\n",
    "Do wektorów `y_train` i `y_test` dodaj szum losowy pochodzący z rozkładu $N(0, s)$, gdzie $s$ to okło $\\frac{1}{10}$ współczynnika $w$ w wyniku regresji liniowej. Wykorzystaj funkcję `np.random.randn` pomnożoną przez stałą $s$. Naucz regresję za pomocą `X_train` oraz `y_train`, a następnie oblicz MSE na zbiorze uczącym i testowym."
   ]
  },
  {
   "cell_type": "code",
   "execution_count": null,
   "metadata": {
    "collapsed": false
   },
   "outputs": [],
   "source": [
    "s = ...\n",
    "\n",
    "y_train += s*np.random.randn(n)\n",
    "y_test += s*np.random.randn(n)\n",
    "\n",
    "w, b = ...\n",
    "\n",
    "y_train_pred = ...\n",
    "y_test_pred = ...\n",
    "\n",
    "print(\"w\", w, \"b\", b)\n",
    "print(\"MSE (train)\", ...)\n",
    "print(\"MSE (test)\", ...)"
   ]
  },
  {
   "cell_type": "markdown",
   "metadata": {},
   "source": [
    "# Wielowymiarowa regresja liniowa\n",
    "\n",
    "Zaimplementuj funkcję `reglin_vec`, która na wejściu otrzymuje macierz cech `X` oraz wektor oczekiwanych wartości `y` i (wykorzystując rozwiązanie algebraiczne) oblicza wektor wag `w`. Pamiętaj o uzupełnieniu `X` o kolumnę odpowiadającą wyrazowi wolnemu!"
   ]
  },
  {
   "cell_type": "code",
   "execution_count": null,
   "metadata": {
    "collapsed": true
   },
   "outputs": [],
   "source": [
    "def reglin_vec(X, y):\n",
    "    ...\n",
    "    assert w.shape == X.shape[1] + 1\n",
    "    return w"
   ]
  },
  {
   "cell_type": "markdown",
   "metadata": {},
   "source": [
    "Zaimplementuj funkcję `predict_vec`, która na wejściu otrzymuje macierz cech `X` i wektor wag `w`, a zwraca wartość predykcji w regresji. Pamiętaj o uzupełnieniu `X` o kolumnę odpowiadającą wyrazowi wolnemu!"
   ]
  },
  {
   "cell_type": "code",
   "execution_count": null,
   "metadata": {
    "collapsed": true
   },
   "outputs": [],
   "source": [
    "def predict_vec(X, w):\n",
    "    assert X.shape[1] + 1 == w.shape\n",
    "    ...\n",
    "    return ..."
   ]
  },
  {
   "cell_type": "markdown",
   "metadata": {},
   "source": [
    "Przetestuj swój kod"
   ]
  },
  {
   "cell_type": "code",
   "execution_count": null,
   "metadata": {
    "collapsed": false
   },
   "outputs": [],
   "source": [
    "X = np.array([[4], [7], [9]])\n",
    "y_true = np.array([390, 645, 815])\n",
    "report(y_true, *reglin_vec(X, y_true))"
   ]
  },
  {
   "cell_type": "markdown",
   "metadata": {},
   "source": [
    "## Zależność pomiędzy wielkością błędu losowego, a wielkością błędu MSE\n",
    "\n",
    "Wygeneruj macierz `X` rozmiaru $10000 \\times 2$ z rozkładu jednostajnego $[0,1)$. Oblicz `y_true` jako iloczyn $X\\cdot w_{true} + b_{true}$, gdzie $w_{true}$ i $b_{true}$ to pewien wektor wag oraz wyraz wolny wybrane przez Ciebie."
   ]
  },
  {
   "cell_type": "code",
   "execution_count": null,
   "metadata": {
    "collapsed": true
   },
   "outputs": [],
   "source": [
    "n = 10000\n",
    "X = ...\n",
    "w = ...\n",
    "y_true = ..."
   ]
  },
  {
   "cell_type": "markdown",
   "metadata": {},
   "source": [
    "Niech wektor `errors` zawiera kolejne liczby od `0` do (mniej-więcej) 10-krotności maksymalnej wartości w wektorze `y_true`. Możesz wykorzystać w tym celu funkcję `range` lub `np.arange`.\n",
    "Wykonaj następujący eksperyment: \n",
    "\n",
    "1. Dla każdej wartości `e` w wektorze `errors` oblicz wektor `y` jako `y_true` plus błąd losowy N(0, `e`)\n",
    "2. Naucz regresję liniową wykorzystując wektory `X` oraz `y`\n",
    "3. Oblicz predykcję `y_pred` na bazie wektora `X` (w tym zadaniu nie rozróżniamy zbioru uczącego i testowego)\n",
    "3. Do wektora mses_true dodaj błąd średniokwadratowy pomiędzy `y_true` i `y_pred`\n",
    "4. Do wektora mses_noise dodaj błąd średniokwadratowy pomiędzy `y` i `y_pred`\n",
    "\n",
    "Wykorzystaj zamieszczony niżej kod do narysowania wykresów. Skomentuj wyniki"
   ]
  },
  {
   "cell_type": "code",
   "execution_count": null,
   "metadata": {
    "collapsed": false
   },
   "outputs": [],
   "source": [
    "errors = np.arange(0, ...)\n",
    "mses_true = []\n",
    "mses_noise = []\n",
    "for e in errors:\n",
    "    y = ...    \n",
    "    y_pred = ...\n",
    "    mses_true.append(...)\n",
    "    mses_noise.append(...)"
   ]
  },
  {
   "cell_type": "code",
   "execution_count": null,
   "metadata": {
    "collapsed": false
   },
   "outputs": [],
   "source": [
    "plt.plot(errors, mses_true)\n",
    "plt.show()"
   ]
  },
  {
   "cell_type": "code",
   "execution_count": null,
   "metadata": {
    "collapsed": false
   },
   "outputs": [],
   "source": [
    "plt.plot(errors, mses_noise)\n",
    "plt.show()"
   ]
  },
  {
   "cell_type": "markdown",
   "metadata": {},
   "source": [
    "*Tu skomentuj wykresy. Dlaczego wyglądają, jak wyglądają? Co z tego wynika? Z jak dużymi błedami losowymi regresja sobie jeszcze radzi, a z jakimi już nie? Dlaczego?*"
   ]
  },
  {
   "cell_type": "markdown",
   "metadata": {},
   "source": [
    "# Gradient descent\n",
    "\n",
    "Funkcja `mse_grad` oblicza wartość gradientu błędu średniokwadratowego dla danych `X` `y` i wag `w`. Uzupełnij implementację funkcji `reglin_gd` implementując schodzenie po gradiencie z następującymi warunkami zatrzymania (wszystkie mają być zaimplementowane, ale wystarczy spełnienie jednego, żeby przerwać obliczenia):\n",
    "\n",
    "* maksymalnie 50000 kroków (epok uczenia)\n",
    "* suma wartości bezwzględnych gradientu poniżej 1\n",
    "* błąd średniokwadratowy poniżej 1\n",
    "\n",
    "Funkcja ma zwracać dwie wartości: wektor wag `w` oraz błędy średniokwadratowe obliczone w kolejnych epokach `mses`. `X` to macierz cech, `y` macierz etykiet, a `epsilon` to prędkość uczenia."
   ]
  },
  {
   "cell_type": "code",
   "execution_count": null,
   "metadata": {
    "collapsed": true
   },
   "outputs": [],
   "source": [
    "def mse_grad(X, y, w):\n",
    "    n, _ = X.shape\n",
    "    return 2/n*(w.T@X.T-y.T)@X\n",
    "\n",
    "def reglin_gd(X, y, epsilon):\n",
    "    ...\n",
    "    return w, mses"
   ]
  },
  {
   "cell_type": "markdown",
   "metadata": {},
   "source": [
    "Wygeneruj dane jak wcześniej i przetestuj swój kod. Dobierz eksperymentalnie prędkość uczenia. Wykres powinien przedstawiać wartości błedu średniokwadratowego w kolejnych epokach uczenia."
   ]
  },
  {
   "cell_type": "code",
   "execution_count": null,
   "metadata": {
    "collapsed": true
   },
   "outputs": [],
   "source": [
    "X = ...\n",
    "y = ..."
   ]
  },
  {
   "cell_type": "code",
   "execution_count": null,
   "metadata": {
    "collapsed": false
   },
   "outputs": [],
   "source": [
    "model, mses = reglin_gd(X, y, ...)\n",
    "print(model)\n",
    "plt.plot(mses)"
   ]
  },
  {
   "cell_type": "markdown",
   "metadata": {},
   "source": [
    "# Batch gradient descent\n",
    "\n",
    "Zaimplementuj funkcję `reglin_batch_gd`, która będzie uczyła regresję liniową stosując batch gradient descent. W każdym kroku (epoce) musisz wybrać losowo `size` przykładów z macierzy `X` i wektora `y`, na ich podstawie obliczyć gradient i zaktualizować wektor wag `w`. Uczenie ma się odbywać przez maksymalnie `max_epoch` kroków. Funkcja ma zwracać obliczony wektor wag `w` oraz wektor MSE obliczonych w kolejnych krokach. Możesz zaimplementować dodatkowe warunki zatrzymania, np. średni gradient (co do wartości bezwzględnej) lub średni błąd przez ostatnie ileś kroków są poniżej pewnego poziomu."
   ]
  },
  {
   "cell_type": "code",
   "execution_count": null,
   "metadata": {
    "collapsed": true
   },
   "outputs": [],
   "source": [
    "def reglin_batch_gd(X, y, epsilon, size=100, max_epoch=50000):\n",
    "    ...\n",
    "    return w, mses"
   ]
  },
  {
   "cell_type": "code",
   "execution_count": null,
   "metadata": {
    "collapsed": false
   },
   "outputs": [],
   "source": [
    "model, mses = reglin_batch_gd(X, y, 0.01, size=10)\n",
    "print(model)\n",
    "plt.plot(mses)"
   ]
  },
  {
   "cell_type": "markdown",
   "metadata": {},
   "source": [
    "Przetestuj swoją implementację dla różnych wartości parametru `size`"
   ]
  },
  {
   "cell_type": "code",
   "execution_count": null,
   "metadata": {
    "collapsed": false
   },
   "outputs": [],
   "source": [
    "sizes = [10, 20, 50, 100, 200, 500, 1000, 2000]\n",
    "mses = []\n",
    "for size in sizes:\n",
    "    model, _ = reglin_batch_gd(X, y, 0.01, size=size)\n",
    "    mses.append(mse(y, predict_vec(X, model)))"
   ]
  },
  {
   "cell_type": "code",
   "execution_count": null,
   "metadata": {},
   "outputs": [],
   "source": [
    "plt.scatter(sizes, mses)\n",
    "plt.show()"
   ]
  }
 ],
 "metadata": {
  "kernelspec": {
   "display_name": "Python 3",
   "language": "python",
   "name": "python3"
  },
  "language_info": {
   "codemirror_mode": {
    "name": "ipython",
    "version": 3
   },
   "file_extension": ".py",
   "mimetype": "text/x-python",
   "name": "python",
   "nbconvert_exporter": "python",
   "pygments_lexer": "ipython3",
   "version": "3.5.3"
  }
 },
 "nbformat": 4,
 "nbformat_minor": 2
}
