{
 "cells": [
  {
   "cell_type": "markdown",
   "metadata": {},
   "source": [
    "# Przewidywanie cen domów w Bostonie\n",
    "\n",
    "Tym razem zamiast implementować wszystko ręcznie wykorzystamy pakiet `scikit-learn`, który implementuje bardzo dużo  algorytmów uczenia maszynowego: http://scikit-learn.org/stable/documentation.html\n",
    "Uruchom poniższy kod i zapoznaj się z opisem zbioru danych"
   ]
  },
  {
   "cell_type": "code",
   "execution_count": null,
   "metadata": {
    "collapsed": false
   },
   "outputs": [],
   "source": [
    "from sklearn.datasets import load_boston\n",
    "boston = load_boston()\n",
    "print(boston.DESCR)"
   ]
  },
  {
   "cell_type": "code",
   "execution_count": null,
   "metadata": {
    "collapsed": false
   },
   "outputs": [],
   "source": [
    "X = boston['data']\n",
    "y = boston['target']\n",
    "print(X.shape)\n",
    "print(X[0,:], \"|\", y[0])"
   ]
  },
  {
   "cell_type": "markdown",
   "metadata": {},
   "source": [
    "Podzielimy dane w następujących proporcjach: 70% zbiór uczący, 10% zbiór walidujący, 20% zbiór testowy"
   ]
  },
  {
   "cell_type": "code",
   "execution_count": null,
   "metadata": {
    "collapsed": false
   },
   "outputs": [],
   "source": [
    "n, p = X.shape\n",
    "n_train = int(.7*n)\n",
    "n_validation = int(.2*n)\n",
    "X_train = X[n_train:, :]\n",
    "y_train = y[n_train:]\n",
    "X_validation = X[n_train:n_train+n_validation, :]\n",
    "y_validation = y[n_train:n_train+n_validation]\n",
    "X_test = X[n_train+n_validation:, :]\n",
    "y_test = y[n_train+n_validation:]"
   ]
  },
  {
   "cell_type": "markdown",
   "metadata": {},
   "source": [
    "Zbudujemy przykładowy model regresji liniowej z regularyzacją Ridge i ocenimy jego jakość na zbiorze walidującym za pomocą miary MSE"
   ]
  },
  {
   "cell_type": "code",
   "execution_count": null,
   "metadata": {
    "collapsed": false
   },
   "outputs": [],
   "source": [
    "from sklearn.linear_model import Ridge\n",
    "from sklearn.metrics import mean_squared_error\n",
    "\n",
    "regressor = Ridge(alpha=1)\n",
    "regressor.fit(X_train, y_train)\n",
    "mse = mean_squared_error(y_validation, regressor.predict(X_validation))\n",
    "print(\"MSE\", mse)"
   ]
  },
  {
   "cell_type": "markdown",
   "metadata": {},
   "source": [
    "Skomplikujemy model i dołożymy skalowanie min-max. Funkcja `make_pipeline` łączy ze sobą kilka operacji: najpierw salowanie, a potem obliczanie regresji."
   ]
  },
  {
   "cell_type": "code",
   "execution_count": null,
   "metadata": {
    "collapsed": false
   },
   "outputs": [],
   "source": [
    "from sklearn.pipeline import make_pipeline\n",
    "from sklearn.preprocessing import MinMaxScaler\n",
    "\n",
    "regressor = make_pipeline(MinMaxScaler(), Ridge(alpha=1))\n",
    "regressor.fit(X_train, y_train)\n",
    "mse = mean_squared_error(y_validation, regressor.predict(X_validation))\n",
    "print(\"MSE\", mse)"
   ]
  },
  {
   "cell_type": "markdown",
   "metadata": {},
   "source": [
    "# Zadanie\n",
    "\n",
    "Zbuduj jak najlepszy regresor:\n",
    "* zdecyduj czy użyć skalowania (`sklearn.preprocessing.MinMaxScaler`/`sklearn.preprocessing.StandardScaler`) czy nie\n",
    "* zdecyduj jakiego regresora użyć: zwykłej regresji liniowej (`sklearn.linear_model.LinearRegression`, `sklearn.linear_model.Ridge`, `sklearn.linear_model.Lasso`)\n",
    "* Jeżeli zdecydujesz się na regresory z regularyzacją dobierz wartość parametru `alpha`\n",
    "\n",
    "Przeprowadź kilka eksperymentów z różnymi doborami parametrów: za każdym razem ucz na zbiorze uczącym, a testuj na zbiorze walidującym. Dokumentuj wyniki jako kolejne komórki z kodem w Notebooku. Gdy będziesz już zadowolony z wyniku oblicz błąd średniokwadratowy dla wybranego przez Ciebie regresora na zbiorze testowym."
   ]
  },
  {
   "cell_type": "code",
   "execution_count": null,
   "metadata": {
    "collapsed": true
   },
   "outputs": [],
   "source": [
    "# tu eksperyment 1"
   ]
  },
  {
   "cell_type": "code",
   "execution_count": null,
   "metadata": {
    "collapsed": true
   },
   "outputs": [],
   "source": [
    "# tu eksperyment 2"
   ]
  },
  {
   "cell_type": "code",
   "execution_count": null,
   "metadata": {
    "collapsed": true
   },
   "outputs": [],
   "source": [
    "# itd"
   ]
  },
  {
   "cell_type": "code",
   "execution_count": null,
   "metadata": {
    "collapsed": true
   },
   "outputs": [],
   "source": []
  }
 ],
 "metadata": {
  "kernelspec": {
   "display_name": "Python 3",
   "language": "python",
   "name": "python3"
  },
  "language_info": {
   "codemirror_mode": {
    "name": "ipython",
    "version": 3
   },
   "file_extension": ".py",
   "mimetype": "text/x-python",
   "name": "python",
   "nbconvert_exporter": "python",
   "pygments_lexer": "ipython3",
   "version": "3.5.3"
  }
 },
 "nbformat": 4,
 "nbformat_minor": 2
}
